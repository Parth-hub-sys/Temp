{
 "cells": [
  {
   "cell_type": "code",
   "execution_count": null,
   "id": "01bbbaab",
   "metadata": {},
   "outputs": [
    {
     "name": "stdout",
     "output_type": "stream",
     "text": [
      "California Housing (Linear Regression):\n",
      "  Bias: 0.0141\n",
      "  Variance: 0.9702\n",
      "  MSE: 0.7045\n",
      "\n",
      "Iris (Logistic Regression):\n",
      "  Bias: 0.0396\n",
      "  Variance: 0.0006\n",
      "  Accuracy: 0.9604\n",
      "\n",
      "Random Data (Decision Tree Regression):\n",
      "  Bias: 0.0537\n",
      "  Variance: 5.0691\n",
      "  MSE: 2.5090\n",
      "\n"
     ]
    }
   ],
   "source": [
    "# Perform Bias Variance decompositions for the datasets – California housing, Iris and\n",
    "# randomly generated data.\n",
    "\n",
    "\n",
    "\n",
    "import numpy as np\n",
    "from sklearn.datasets import fetch_california_housing, load_iris\n",
    "from sklearn.linear_model import LinearRegression, LogisticRegression\n",
    "from sklearn.tree import DecisionTreeRegressor, DecisionTreeClassifier\n",
    "from sklearn.model_selection import train_test_split\n",
    "from sklearn.metrics import mean_squared_error, accuracy_score\n",
    "\n",
    "# Helper function for bias-variance decomposition (regression)\n",
    "def bias_variance_decomp_reg(model, X, y, n_rounds=50, test_size=0.3):\n",
    "    y_preds = []\n",
    "    y_tests = []\n",
    "    for _ in range(n_rounds):\n",
    "        X_train, X_test, y_train, y_test = train_test_split(X, y, test_size=test_size)\n",
    "        model.fit(X_train, y_train)\n",
    "        y_pred = model.predict(X_test)\n",
    "        y_preds.append(y_pred)\n",
    "        y_tests.append(y_test)\n",
    "    y_preds = np.array(y_preds)\n",
    "    y_tests = np.array(y_tests)\n",
    "    avg_pred = np.mean(y_preds, axis=0)\n",
    "    avg_true = np.mean(y_tests, axis=0)\n",
    "    bias = np.mean((avg_pred - avg_true) ** 2)\n",
    "    variance = np.mean(np.var(y_preds, axis=0))\n",
    "    mse = np.mean((y_preds - y_tests) ** 2)\n",
    "    return bias, variance, mse\n",
    "\n",
    "# Helper function for bias-variance decomposition (classification)\n",
    "def bias_variance_decomp_clf(model, X, y, n_rounds=50, test_size=0.3):\n",
    "    accs = []\n",
    "    for _ in range(n_rounds):\n",
    "        X_train, X_test, y_train, y_test = train_test_split(X, y, test_size=test_size)\n",
    "        model.fit(X_train, y_train)\n",
    "        y_pred = model.predict(X_test)\n",
    "        accs.append(accuracy_score(y_test, y_pred))\n",
    "    avg_acc = np.mean(accs)\n",
    "    variance = np.var(accs)\n",
    "    bias = 1 - avg_acc\n",
    "    return bias, variance, avg_acc\n",
    "\n",
    "# 1. California Housing (Regression)\n",
    "california = fetch_california_housing()\n",
    "X_cal, y_cal = california.data, california.target\n",
    "lr = LinearRegression()\n",
    "bias_cal, var_cal, mse_cal = bias_variance_decomp_reg(lr, X_cal, y_cal)\n",
    "print(f\"California Housing (Linear Regression):\\n  Bias: {bias_cal:.4f}\\n  Variance: {var_cal:.4f}\\n  MSE: {mse_cal:.4f}\\n\")\n",
    "\n",
    "# 2. Iris (Classification)\n",
    "iris = load_iris()\n",
    "X_iris, y_iris = iris.data, iris.target\n",
    "clf = LogisticRegression(max_iter=200)\n",
    "bias_iris, var_iris, acc_iris = bias_variance_decomp_clf(clf, X_iris, y_iris)\n",
    "print(f\"Iris (Logistic Regression):\\n  Bias: {bias_iris:.4f}\\n  Variance: {var_iris:.4f}\\n  Accuracy: {acc_iris:.4f}\\n\")\n",
    "\n",
    "# 3. Randomly generated data (Regression)\n",
    "np.random.seed(0)\n",
    "X_rand = np.random.rand(200, 3)\n",
    "y_rand = 5 * X_rand[:, 0] - 2 * X_rand[:, 1] + 3 * X_rand[:, 2] + np.random.randn(200)\n",
    "dt = DecisionTreeRegressor()\n",
    "bias_rand, var_rand, mse_rand = bias_variance_decomp_reg(dt, X_rand, y_rand)\n",
    "print(f\"Random Data (Decision Tree Regression):\\n  Bias: {bias_rand:.4f}\\n  Variance: {var_rand:.4f}\\n  MSE: {mse_rand:.4f}\\n\")"
   ]
  },
  {
   "cell_type": "code",
   "execution_count": null,
   "id": "54b4861a",
   "metadata": {},
   "outputs": [],
   "source": []
  }
 ],
 "metadata": {
  "kernelspec": {
   "display_name": "base",
   "language": "python",
   "name": "python3"
  },
  "language_info": {
   "codemirror_mode": {
    "name": "ipython",
    "version": 3
   },
   "file_extension": ".py",
   "mimetype": "text/x-python",
   "name": "python",
   "nbconvert_exporter": "python",
   "pygments_lexer": "ipython3",
   "version": "3.12.7"
  }
 },
 "nbformat": 4,
 "nbformat_minor": 5
}
